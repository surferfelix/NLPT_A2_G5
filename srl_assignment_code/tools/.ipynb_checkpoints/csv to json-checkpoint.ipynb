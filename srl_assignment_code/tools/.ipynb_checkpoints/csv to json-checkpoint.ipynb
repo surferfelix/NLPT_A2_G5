{
 "cells": [
  {
   "cell_type": "code",
   "execution_count": 26,
   "id": "7e6e2b83",
   "metadata": {},
   "outputs": [
    {
     "ename": "SyntaxError",
     "evalue": "invalid syntax (Temp/ipykernel_28840/1779537169.py, line 6)",
     "output_type": "error",
     "traceback": [
      "\u001b[1;36m  File \u001b[1;32m\"C:\\Users\\user\\AppData\\Local\\Temp/ipykernel_28840/1779537169.py\"\u001b[1;36m, line \u001b[1;32m6\u001b[0m\n\u001b[1;33m    pip install jsonlines\u001b[0m\n\u001b[1;37m        ^\u001b[0m\n\u001b[1;31mSyntaxError\u001b[0m\u001b[1;31m:\u001b[0m invalid syntax\n"
     ]
    }
   ],
   "source": [
    "import pandas as pd\n",
    "import json\n",
    "import jsonlines\n",
    "from typing import List\n",
    "import csv"
   ]
  },
  {
   "cell_type": "code",
   "execution_count": 27,
   "id": "8438d5e1-8b27-410d-950e-0c28ba6e1c6d",
   "metadata": {},
   "outputs": [
    {
     "name": "stdout",
     "output_type": "stream",
     "text": [
      "Collecting jsonlines\n",
      "  Downloading jsonlines-3.0.0-py3-none-any.whl (8.5 kB)\n",
      "Requirement already satisfied: attrs>=19.2.0 in c:\\users\\user\\anaconda3\\lib\\site-packages (from jsonlines) (21.2.0)\n",
      "Installing collected packages: jsonlines\n",
      "Successfully installed jsonlines-3.0.0\n",
      "Note: you may need to restart the kernel to use updated packages.\n"
     ]
    }
   ],
   "source": [
    "pip install jsonlines"
   ]
  },
  {
   "cell_type": "code",
   "execution_count": 25,
   "id": "ccf8c09a-2a46-4552-8ddf-0d5e7ad4dd28",
   "metadata": {},
   "outputs": [],
   "source": [
    "def preprocessing_raw_data(raw, file_type):\n",
    "    '''Exports preprocessed raw data file'''\n",
    "  \n",
    "    container = []  # List of lists\n",
    "    with open(raw, encoding = \"utf-8\") as raw_file:\n",
    "        in_raw = csv.reader(raw_file, delimiter='\\t', quotechar='|')\n",
    "        for row in in_raw:\n",
    "            if row:\n",
    "                if row[0].startswith('#'):\n",
    "                    continue\n",
    "                else:\n",
    "                    container.append(row)\n",
    "                      \n",
    "    with open('../data/clean_raw_'+file_type+'_data.tsv', 'w', encoding = \"utf-8\", newline = \"\") as output_file:\n",
    "        writer = csv.writer(output_file, delimiter='\\t', quotechar='|')\n",
    "        # Getting the max line size\n",
    "        padding_limit = max([len(line) for line in container])\n",
    "        sentence_nr = []\n",
    "        line_iter = 0\n",
    "        for line in container:\n",
    "            while len(line) != padding_limit:\n",
    "                line.append('_')\n",
    "            try:\n",
    "                if int(line[0]) == 1:  # New line\n",
    "                    line_iter += 1\n",
    "            except ValueError:  # Some lines have periods in the index\n",
    "                line_iter += 1\n",
    "            writer.writerow([line_iter] + line)\n"
   ]
  },
  {
   "cell_type": "code",
   "execution_count": 13,
   "id": "02193430",
   "metadata": {},
   "outputs": [],
   "source": [
    "def change_value(preprocessed_data, file_type):\n",
    "    df = pd.read_csv('../data/clean_raw_'+file_type+'_data.tsv', sep='\\t', header=None , encoding = \"utf-8\",\n",
    "                     keep_default_na=False, quotechar='|', skip_blank_lines=False)\n",
    "    \n",
    "    length = len(df.iloc[0].tolist())\n",
    "    for i in range(length-11):\n",
    "        row = i + 11 \n",
    "        df.iloc[:, row]= df.iloc[:, row].apply(lambda x: 'O' if x in ['', '_'] else x).tolist()\n",
    "        if row >=12:\n",
    "            df.iloc[:, row]= df.iloc[:, row].apply(lambda x: \"B-\"+x if x \n",
    "                                                   not in ['', 'O'] else x).tolist()  \n",
    "    return df"
   ]
  },
  {
   "cell_type": "code",
   "execution_count": 22,
   "id": "807646d2",
   "metadata": {},
   "outputs": [],
   "source": [
    "def from_csv_to_json(df, file_type):\n",
    "    schemas = [] # set up container \n",
    "    print(schemas)\n",
    "    # group sentence from sentences \n",
    "    sentences = df.groupby(0)\n",
    "\n",
    "    for group in sentences.groups:\n",
    "\n",
    "        sentence = sentences.get_group(group)\n",
    "        # from each sentence find the index of their verbs\n",
    "        verbs = sentence[sentence.iloc[:, 11] != 'O'].index\n",
    "\n",
    "        for count, verb in enumerate(verbs):\n",
    "            if count ==0:\n",
    "                V = \"V\"\n",
    "            else:\n",
    "                V = \"_\"\n",
    "\n",
    "            schema = {\n",
    "                'sep_words': sentence.iloc[:, 2].tolist(),\n",
    "                'BIO': sentence.iloc[:, 12].tolist(),\n",
    "                'pred_sense': [verb, df.iloc[verb, 11], V, df.iloc[verb, 5]]\n",
    "            }\n",
    "\n",
    "            schemas.append(schema)\n",
    "\n",
    "    with open(\"../data/srl_univprop_en.\"+file_type+\".jsonl\", 'w') as f:\n",
    "         \n",
    "        f.write_all(schema)"
   ]
  },
  {
   "cell_type": "code",
   "execution_count": 23,
   "id": "575beafe",
   "metadata": {},
   "outputs": [
    {
     "name": "stderr",
     "output_type": "stream",
     "text": [
      "C:\\Users\\user\\AppData\\Local\\Temp/ipykernel_28840/2062762571.py:6: DtypeWarning: Columns (7) have mixed types.Specify dtype option on import or set low_memory=False.\n",
      "  df = change_value(preprocessed_data, file)\n"
     ]
    }
   ],
   "source": [
    "file_type = ['train', 'dev']\n",
    "# if __name__ == '__main__':\n",
    "for file in file_type:\n",
    "    path  = \"../data/srl_univprop_en.\"+file+\".conll\"     \n",
    "    preprocessed_data = preprocessing_raw_data(path, file)\n",
    "    df = change_value(preprocessed_data, file)\n",
    "    from_csv_to_json(df, file)"
   ]
  },
  {
   "cell_type": "code",
   "execution_count": null,
   "id": "96e9c9f3",
   "metadata": {},
   "outputs": [],
   "source": []
  }
 ],
 "metadata": {
  "kernelspec": {
   "display_name": "Python 3 (ipykernel)",
   "language": "python",
   "name": "python3"
  },
  "language_info": {
   "codemirror_mode": {
    "name": "ipython",
    "version": 3
   },
   "file_extension": ".py",
   "mimetype": "text/x-python",
   "name": "python",
   "nbconvert_exporter": "python",
   "pygments_lexer": "ipython3",
   "version": "3.9.7"
  }
 },
 "nbformat": 4,
 "nbformat_minor": 5
}
